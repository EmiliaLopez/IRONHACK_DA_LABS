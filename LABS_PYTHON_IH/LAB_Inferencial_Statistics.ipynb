{
 "cells": [
  {
   "cell_type": "markdown",
   "id": "71872927-aff1-4c25-84e4-179b3627a037",
   "metadata": {},
   "source": [
    "## Lab | Inferential statistics - T-test & P-value\n",
    "\n",
    "We will have another simple example on two sample t test (pooled- when the variances are equal). But this time this is a one sided t-test   \n",
    "In a packing plant, a machine packs cartons with jars. It is supposed that a new machine will pack faster on the average than the machine currently used. To test that hypothesis,    the times it takes each machine to pack ten cartons are recorded. The results, in seconds, are shown in the tables in the file files_for_lab/machine.txt. Assume that there is    sufficient evidence to conduct the t test, does the data provide sufficient evidence to show if one machine is better than the other   \n",
    "\n",
    "An additional problem (not mandatory): In this case we can't assume that the population variances are equal. Hence in this case we cannot pool the variances. Independent random    samples of 17 sophomores and 13 juniors attending a large university yield the following data on grade point averages. Data is provided in the file files_for_lab/student_gpa.txt.    At the 5% significance level, do the data provide sufficient evidence to conclude that the mean GPAs of sophomores and juniors at the university differ?   \n",
    "\n",
    "Test statistics can be calculated as: link to the image - Test statistics calculation for Unpooled Variance Case   \n",
    "\n",
    "Degrees of freedom is (n1-1)+(n2-1).   "
   ]
  },
  {
   "cell_type": "code",
   "execution_count": 8,
   "id": "4ce43ad5-d358-4746-b3fc-44a98d7d2ea0",
   "metadata": {},
   "outputs": [],
   "source": [
    "import pandas as pd\n",
    "import numpy as np\n",
    "import math\n",
    "import scipy.stats as st"
   ]
  },
  {
   "cell_type": "code",
   "execution_count": 9,
   "id": "425c906a-d2bb-4d6f-b616-5fe79e4091f5",
   "metadata": {},
   "outputs": [],
   "source": [
    "data=pd.read_csv('machine_new.txt', sep=\"\\t\")\n",
    "data_student= pd.read_csv('student_gpa.txt', sep=\"\\t\")"
   ]
  },
  {
   "cell_type": "code",
   "execution_count": 10,
   "id": "f030278f-569c-4175-a135-34f546ec4afb",
   "metadata": {},
   "outputs": [
    {
     "data": {
      "text/html": [
       "<div>\n",
       "<style scoped>\n",
       "    .dataframe tbody tr th:only-of-type {\n",
       "        vertical-align: middle;\n",
       "    }\n",
       "\n",
       "    .dataframe tbody tr th {\n",
       "        vertical-align: top;\n",
       "    }\n",
       "\n",
       "    .dataframe thead th {\n",
       "        text-align: right;\n",
       "    }\n",
       "</style>\n",
       "<table border=\"1\" class=\"dataframe\">\n",
       "  <thead>\n",
       "    <tr style=\"text-align: right;\">\n",
       "      <th></th>\n",
       "      <th>New machine</th>\n",
       "      <th>Old machine</th>\n",
       "    </tr>\n",
       "  </thead>\n",
       "  <tbody>\n",
       "    <tr>\n",
       "      <th>0</th>\n",
       "      <td>42.1</td>\n",
       "      <td>42.7</td>\n",
       "    </tr>\n",
       "    <tr>\n",
       "      <th>1</th>\n",
       "      <td>41.0</td>\n",
       "      <td>43.6</td>\n",
       "    </tr>\n",
       "    <tr>\n",
       "      <th>2</th>\n",
       "      <td>41.3</td>\n",
       "      <td>43.8</td>\n",
       "    </tr>\n",
       "    <tr>\n",
       "      <th>3</th>\n",
       "      <td>41.8</td>\n",
       "      <td>43.3</td>\n",
       "    </tr>\n",
       "    <tr>\n",
       "      <th>4</th>\n",
       "      <td>42.4</td>\n",
       "      <td>42.5</td>\n",
       "    </tr>\n",
       "    <tr>\n",
       "      <th>5</th>\n",
       "      <td>42.8</td>\n",
       "      <td>43.5</td>\n",
       "    </tr>\n",
       "    <tr>\n",
       "      <th>6</th>\n",
       "      <td>43.2</td>\n",
       "      <td>43.1</td>\n",
       "    </tr>\n",
       "    <tr>\n",
       "      <th>7</th>\n",
       "      <td>42.3</td>\n",
       "      <td>41.7</td>\n",
       "    </tr>\n",
       "    <tr>\n",
       "      <th>8</th>\n",
       "      <td>41.8</td>\n",
       "      <td>44.0</td>\n",
       "    </tr>\n",
       "    <tr>\n",
       "      <th>9</th>\n",
       "      <td>42.7</td>\n",
       "      <td>44.1</td>\n",
       "    </tr>\n",
       "  </tbody>\n",
       "</table>\n",
       "</div>"
      ],
      "text/plain": [
       "   New machine      Old machine\n",
       "0         42.1             42.7\n",
       "1         41.0             43.6\n",
       "2         41.3             43.8\n",
       "3         41.8             43.3\n",
       "4         42.4             42.5\n",
       "5         42.8             43.5\n",
       "6         43.2             43.1\n",
       "7         42.3             41.7\n",
       "8         41.8             44.0\n",
       "9         42.7             44.1"
      ]
     },
     "execution_count": 10,
     "metadata": {},
     "output_type": "execute_result"
    }
   ],
   "source": [
    "data"
   ]
  },
  {
   "cell_type": "markdown",
   "id": "29e8ed34-5cb4-4d25-a92a-abc479876db5",
   "metadata": {},
   "source": [
    "H0: µnew machine = µold machine\n",
    "\n",
    "HA: µnew machine ≤ µoldmachine\n",
    "\n",
    "Confidence level:95%\n",
    "Alpha=0.05%"
   ]
  },
  {
   "cell_type": "code",
   "execution_count": 11,
   "id": "8c3ed46f-4840-4582-a5c7-9b94548c74ba",
   "metadata": {},
   "outputs": [],
   "source": [
    "new_machine= [42.1,41,41.3,41.8,42.4,42.8,43.2,42.3,41.8,42.7]\n",
    "old_machine= [42.7,43.6,43.8,43.3,42.5,43.5,43.1,41.7,44,44.1]"
   ]
  },
  {
   "cell_type": "code",
   "execution_count": 12,
   "id": "f13dbd99-4f0d-4ab8-89e7-de7f6d096fa0",
   "metadata": {},
   "outputs": [
    {
     "data": {
      "text/plain": [
       "Ttest_indResult(statistic=-3.3972307061176026, pvalue=0.0016055712503872579)"
      ]
     },
     "execution_count": 12,
     "metadata": {},
     "output_type": "execute_result"
    }
   ],
   "source": [
    "st.ttest_ind(a=new_machine, b=old_machine, alternative=\"less\")"
   ]
  },
  {
   "cell_type": "markdown",
   "id": "53e83a2a-2635-478e-80f1-04811b9a55c9",
   "metadata": {},
   "source": [
    "P.value es 0.0016 < 0.05, por lo que rechazamos hipóteiss nula y aceptamso la alternativa. La nueva máquina es más rápida."
   ]
  },
  {
   "cell_type": "code",
   "execution_count": null,
   "id": "fa25e6ad-f764-4841-a6cc-a42a9da6e80e",
   "metadata": {},
   "outputs": [],
   "source": []
  },
  {
   "cell_type": "code",
   "execution_count": null,
   "id": "d80beb92-6b19-4de9-90cc-c054a2d95f49",
   "metadata": {},
   "outputs": [],
   "source": []
  },
  {
   "cell_type": "markdown",
   "id": "a5dc6b31-5166-4e06-8d78-15d3f43aa77e",
   "metadata": {},
   "source": [
    "An additional problem (not mandatory): In this case we can't assume that the population variances are equal. Hence in this case we cannot pool the variances.    \n",
    "Independent random samples of 17 sophomores and 13 juniors attending a large university yield the following data on grade point averages.    \n",
    "Data is provided in the file files_for_lab/student_gpa.txt. At the 5% significance level, do the data provide sufficient evidence to conclude that the mean GPAs of sophomores and juniors at the university differ?   \n",
    "\n",
    "Test statistics can be calculated as: link to the image - Test statistics calculation for Unpooled Variance Case   \n",
    "\n",
    "Degrees of freedom is (n1-1)+(n2-1).   "
   ]
  },
  {
   "cell_type": "code",
   "execution_count": 14,
   "id": "467bd513-a568-40b9-9b30-60d4f220d045",
   "metadata": {},
   "outputs": [
    {
     "data": {
      "text/html": [
       "<div>\n",
       "<style scoped>\n",
       "    .dataframe tbody tr th:only-of-type {\n",
       "        vertical-align: middle;\n",
       "    }\n",
       "\n",
       "    .dataframe tbody tr th {\n",
       "        vertical-align: top;\n",
       "    }\n",
       "\n",
       "    .dataframe thead th {\n",
       "        text-align: right;\n",
       "    }\n",
       "</style>\n",
       "<table border=\"1\" class=\"dataframe\">\n",
       "  <thead>\n",
       "    <tr style=\"text-align: right;\">\n",
       "      <th></th>\n",
       "      <th>Sophomores</th>\n",
       "      <th>Juniors</th>\n",
       "    </tr>\n",
       "  </thead>\n",
       "  <tbody>\n",
       "    <tr>\n",
       "      <th>0</th>\n",
       "      <td>3.04</td>\n",
       "      <td>2.56</td>\n",
       "    </tr>\n",
       "    <tr>\n",
       "      <th>1</th>\n",
       "      <td>1.71</td>\n",
       "      <td>2.77</td>\n",
       "    </tr>\n",
       "    <tr>\n",
       "      <th>2</th>\n",
       "      <td>3.30</td>\n",
       "      <td>2.70</td>\n",
       "    </tr>\n",
       "    <tr>\n",
       "      <th>3</th>\n",
       "      <td>2.88</td>\n",
       "      <td>3.00</td>\n",
       "    </tr>\n",
       "    <tr>\n",
       "      <th>4</th>\n",
       "      <td>2.11</td>\n",
       "      <td>2.98</td>\n",
       "    </tr>\n",
       "    <tr>\n",
       "      <th>5</th>\n",
       "      <td>2.60</td>\n",
       "      <td>3.47</td>\n",
       "    </tr>\n",
       "    <tr>\n",
       "      <th>6</th>\n",
       "      <td>2.92</td>\n",
       "      <td>3.26</td>\n",
       "    </tr>\n",
       "    <tr>\n",
       "      <th>7</th>\n",
       "      <td>3.60</td>\n",
       "      <td>3.20</td>\n",
       "    </tr>\n",
       "    <tr>\n",
       "      <th>8</th>\n",
       "      <td>2.28</td>\n",
       "      <td>3.19</td>\n",
       "    </tr>\n",
       "    <tr>\n",
       "      <th>9</th>\n",
       "      <td>2.82</td>\n",
       "      <td>2.65</td>\n",
       "    </tr>\n",
       "    <tr>\n",
       "      <th>10</th>\n",
       "      <td>3.03</td>\n",
       "      <td>3.00</td>\n",
       "    </tr>\n",
       "    <tr>\n",
       "      <th>11</th>\n",
       "      <td>3.13</td>\n",
       "      <td>3.39</td>\n",
       "    </tr>\n",
       "    <tr>\n",
       "      <th>12</th>\n",
       "      <td>2.86</td>\n",
       "      <td>2.58</td>\n",
       "    </tr>\n",
       "    <tr>\n",
       "      <th>13</th>\n",
       "      <td>3.49</td>\n",
       "      <td>NaN</td>\n",
       "    </tr>\n",
       "    <tr>\n",
       "      <th>14</th>\n",
       "      <td>3.11</td>\n",
       "      <td>NaN</td>\n",
       "    </tr>\n",
       "    <tr>\n",
       "      <th>15</th>\n",
       "      <td>2.13</td>\n",
       "      <td>NaN</td>\n",
       "    </tr>\n",
       "    <tr>\n",
       "      <th>16</th>\n",
       "      <td>3.27</td>\n",
       "      <td>NaN</td>\n",
       "    </tr>\n",
       "  </tbody>\n",
       "</table>\n",
       "</div>"
      ],
      "text/plain": [
       "    Sophomores    Juniors\n",
       "0         3.04       2.56\n",
       "1         1.71       2.77\n",
       "2         3.30       2.70\n",
       "3         2.88       3.00\n",
       "4         2.11       2.98\n",
       "5         2.60       3.47\n",
       "6         2.92       3.26\n",
       "7         3.60       3.20\n",
       "8         2.28       3.19\n",
       "9         2.82       2.65\n",
       "10        3.03       3.00\n",
       "11        3.13       3.39\n",
       "12        2.86       2.58\n",
       "13        3.49        NaN\n",
       "14        3.11        NaN\n",
       "15        2.13        NaN\n",
       "16        3.27        NaN"
      ]
     },
     "execution_count": 14,
     "metadata": {},
     "output_type": "execute_result"
    }
   ],
   "source": [
    "data_student"
   ]
  },
  {
   "cell_type": "code",
   "execution_count": 17,
   "id": "4b599f5a-fbcb-41a0-9d43-9354198b673f",
   "metadata": {},
   "outputs": [
    {
     "name": "stdout",
     "output_type": "stream",
     "text": [
      "Estadística t: -0.9231495630900278\n",
      "Valor p: 0.3642180675348571\n"
     ]
    }
   ],
   "source": [
    "# Ejemplo de dos muestras con varianzas diferentes\n",
    "sopho= [3.04,1.71,3.30,2.88,2.11,2.60,2.92,3.60,2.28,2.82,3.03,3.13,2.86,3.49,3.11,2.13,3.27]\n",
    "juniors = [2.56,2.77,2.70,3.00,2.98,3.47,3.26,3.20,3.19,2.65,3.00,3.39,2.58]\n",
    "\n",
    "# Realizar la prueba t sin pooled\n",
    "t_stat, p_value = st.ttest_ind(sopho, juniors, equal_var=False)\n",
    "\n",
    "# Imprimir resultados\n",
    "print(\"Estadística t:\", t_stat)\n",
    "print(\"Valor p:\", p_value)"
   ]
  },
  {
   "cell_type": "code",
   "execution_count": null,
   "id": "bbd5a8df-51b0-4578-9f39-e72a8e92cbe0",
   "metadata": {},
   "outputs": [],
   "source": []
  },
  {
   "cell_type": "code",
   "execution_count": null,
   "id": "f94af291-eb1d-4a66-9c3c-dd2d6b8c7998",
   "metadata": {},
   "outputs": [],
   "source": []
  },
  {
   "cell_type": "markdown",
   "id": "92349a13-3556-449e-9fc1-015fdc406a2f",
   "metadata": {},
   "source": [
    "## Lab | Inferential statistics\n",
    "Instructions   \n",
    "It is assumed that the mean systolic blood pressure is μ = 120 mm Hg. In the Honolulu Heart Study, a sample of n = 100 people had an average systolic blood pressure of 130.1 mm Hg with a standard deviation of 21.21 mm Hg. Is the group significantly different (with respect to systolic blood pressure!) from the regular population?   \n",
    "\n",
    "Set up the hypothesis test.\n",
    "Write down all the steps followed for setting up the test.   \n",
    "Calculate the test statistic by hand and also code it in Python. It should be 4.76190. We will take a look at how to make decisions based on this calculated value.   \n",
    "If you finished the previous question, please go through the code for principal_component_analysis_example provided in the files_for_lab folder .   "
   ]
  },
  {
   "cell_type": "code",
   "execution_count": null,
   "id": "416a4390-ea07-4882-9306-952ba5b06a3c",
   "metadata": {},
   "outputs": [],
   "source": []
  },
  {
   "cell_type": "code",
   "execution_count": null,
   "id": "2e10f200-4d95-4b58-bb5f-af6efd7bc998",
   "metadata": {},
   "outputs": [],
   "source": [
    "H0: µ = 120\n",
    "\n",
    "HA:  µ =! 120"
   ]
  },
  {
   "cell_type": "markdown",
   "id": "de5913aa-04a9-4ab6-9897-cbc91fc80bfa",
   "metadata": {},
   "source": [
    "- Usamos Estadistico T ya que la distribiucion es normal en la muestra\n",
    "- Grados de libertas n-1\n",
    "- Formula estadistica t = statistics = (sample_mean - population_mean) / (sample_std / math.sqrt(n))"
   ]
  },
  {
   "cell_type": "code",
   "execution_count": 18,
   "id": "6cd6f8cb-aec6-4bb6-bf56-30d2f2a2a8b2",
   "metadata": {},
   "outputs": [
    {
     "data": {
      "text/plain": [
       "4.761904761904759"
      ]
     },
     "execution_count": 18,
     "metadata": {},
     "output_type": "execute_result"
    }
   ],
   "source": [
    "sample_mean= 130.1\n",
    "population_mean= 120\n",
    "population_std= 21.21\n",
    "n=100\n",
    "statistics = (sample_mean -population_mean)/(population_std/math.sqrt(n))\n",
    "statistics"
   ]
  },
  {
   "cell_type": "code",
   "execution_count": 24,
   "id": "9793a365-99ce-4493-a73b-25834b181305",
   "metadata": {},
   "outputs": [
    {
     "name": "stdout",
     "output_type": "stream",
     "text": [
      "P-value: 3.2813509086043083e-06\n"
     ]
    }
   ],
   "source": [
    "# Calcular el p-value para la prueba t de dos muestras\n",
    "p_value = st.t.sf(abs(statistics), df=99)\n",
    "\n",
    "# Imprimir resultado\n",
    "print(\"P-value:\", p_value)"
   ]
  },
  {
   "cell_type": "markdown",
   "id": "f854cce7-3188-436c-a1b2-4beefc811b0a",
   "metadata": {},
   "source": [
    "P.value es < 0.05, por lo que rechazamos hipóteiss nula."
   ]
  },
  {
   "cell_type": "code",
   "execution_count": null,
   "id": "f6d39843-1ccb-4fe1-9ee2-e6d9c92aa457",
   "metadata": {},
   "outputs": [],
   "source": []
  },
  {
   "cell_type": "code",
   "execution_count": null,
   "id": "9877cb0b-9885-4c62-8705-0a756812610a",
   "metadata": {},
   "outputs": [],
   "source": []
  },
  {
   "cell_type": "code",
   "execution_count": null,
   "id": "86277d45-00ab-40f4-9f43-7295b2732614",
   "metadata": {},
   "outputs": [],
   "source": []
  }
 ],
 "metadata": {
  "kernelspec": {
   "display_name": "Python 3 (ipykernel)",
   "language": "python",
   "name": "python3"
  },
  "language_info": {
   "codemirror_mode": {
    "name": "ipython",
    "version": 3
   },
   "file_extension": ".py",
   "mimetype": "text/x-python",
   "name": "python",
   "nbconvert_exporter": "python",
   "pygments_lexer": "ipython3",
   "version": "3.9.13"
  }
 },
 "nbformat": 4,
 "nbformat_minor": 5
}
