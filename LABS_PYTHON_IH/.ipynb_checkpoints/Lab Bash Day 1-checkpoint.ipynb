{
 "cells": [
  {
   "cell_type": "code",
   "execution_count": null,
   "id": "618bebac-f4e9-4d31-9efe-d9a9e785e915",
   "metadata": {},
   "outputs": [],
   "source": [
    "#1\n",
    "$echo \"Hello world\""
   ]
  },
  {
   "cell_type": "code",
   "execution_count": null,
   "id": "7b80232c-531d-477f-a21b-5af84692398e",
   "metadata": {},
   "outputs": [],
   "source": [
    "#2 #3\n",
    "$mkdir new_dir\n",
    "$rm -r new_dir"
   ]
  },
  {
   "cell_type": "code",
   "execution_count": null,
   "id": "550a8f17-1726-416e-9645-98261448068c",
   "metadata": {},
   "outputs": [],
   "source": [
    "#4\n",
    "Emilia@DESKTOP-JHFTGNK MINGW64 ~/repo1/lab-bash (master)\n",
    "$ cp lorem/sed.txt lorem-copy/\n"
   ]
  },
  {
   "cell_type": "code",
   "execution_count": null,
   "id": "e2027994-5b66-4248-8eaf-efe016b7ad8f",
   "metadata": {},
   "outputs": [],
   "source": [
    "#5\n",
    "Emilia@DESKTOP-JHFTGNK MINGW64 ~/repo1/lab-bash (master)\n",
    "$ cp lorem/at.txt lorem-copy/; cp lorem/lorem.txt lorem-copy/\n"
   ]
  },
  {
   "cell_type": "code",
   "execution_count": null,
   "id": "aef1ef06-390a-4518-9928-b47c82729745",
   "metadata": {},
   "outputs": [],
   "source": [
    "#6\n",
    "Emilia@DESKTOP-JHFTGNK MINGW64 ~/repo1/lab-bash (master)\n",
    "$ cd lorem\n",
    "\n",
    "Emilia@DESKTOP-JHFTGNK MINGW64 ~/repo1/lab-bash/lorem (master)\n",
    "$ cat sed.txt\n",
    "Sed ut perspiciatis unde omnis iste natus error sit voluptatem accusantium doloremque laudantium,\n",
    "totam rem aperiam, eaque ipsa quae ab illo inventore veritatis et quasi architecto beatae vitae dicta sunt explicabo.\n",
    "Nemo enim ipsam voluptatem quia voluptas sit aspernatur aut odit aut fugit,\n",
    "sed quia consequuntur magni dolores eos qui ratione voluptatem sequi nesciunt.\n",
    "Neque porro quisquam est, qui dolorem ipsum quia dolor sit amet, consectetur, adipisci velit,\n",
    "sed quia non numquam eius modi tempora incidunt ut labore et dolore magnam aliquam quaerat voluptatem.\n",
    "Ut enim ad minima veniam, quis nostrum exercitationem ullam corporis suscipit laboriosam,\n",
    "nisi ut aliquid ex ea commodi consequatur? Quis autem vel eum iure reprehenderit qui in ea voluptate velit esse quam nihil molestiae consequatur,\n",
    "vel illum qui dolorem eum fugiat quo voluptas nulla pariatur?Homo homini lupus\n"
   ]
  },
  {
   "cell_type": "code",
   "execution_count": null,
   "id": "a58b6993-e75d-40bf-93f3-785c7705d966",
   "metadata": {},
   "outputs": [],
   "source": [
    "#7\n",
    "Emilia@DESKTOP-JHFTGNK MINGW64 ~/repo1/lab-bash/lorem (master)\n",
    "$ cat at.txt; cat lorem.txt\n"
   ]
  },
  {
   "cell_type": "code",
   "execution_count": null,
   "id": "781617ab-220e-435c-beb2-c153b4e4a4fa",
   "metadata": {},
   "outputs": [],
   "source": [
    "#8\n",
    "Emilia@DESKTOP-JHFTGNK MINGW64 ~/repo1/lab-bash/lorem-copy (master)\n",
    "$ head -n3 sed.txt\n"
   ]
  },
  {
   "cell_type": "code",
   "execution_count": null,
   "id": "2f70388c-155a-4d50-b13a-c7f69d58f97d",
   "metadata": {},
   "outputs": [],
   "source": [
    "#9\n",
    "Emilia@DESKTOP-JHFTGNK MINGW64 ~/repo1/lab-bash/lorem-copy (master)\n",
    "$ tail -n3 sed.txt\n"
   ]
  },
  {
   "cell_type": "code",
   "execution_count": null,
   "id": "bea3b8c2-6852-4b84-95b0-557233fa2d71",
   "metadata": {},
   "outputs": [],
   "source": [
    "#10\n",
    "Emilia@DESKTOP-JHFTGNK MINGW64 ~/repo1/lab-bash/lorem-copy (master)\n",
    "$ nano sed.txt\n"
   ]
  },
  {
   "cell_type": "code",
   "execution_count": null,
   "id": "b535b622-d3f8-4c57-af18-a9b76805f24d",
   "metadata": {},
   "outputs": [],
   "source": [
    "#11\n",
    "Emilia@DESKTOP-JHFTGNK MINGW64 ~/repo1/lab-bash/lorem-copy (master)\n",
    "$ tail -n3 sed.txt\n"
   ]
  },
  {
   "cell_type": "code",
   "execution_count": null,
   "id": "a76a1d7e-55cb-4717-8434-fd41c959ea19",
   "metadata": {},
   "outputs": [],
   "source": [
    "#12\n",
    "Emilia@DESKTOP-JHFTGNK MINGW64 ~/repo1/lab-bash/lorem-copy (master)\n",
    "$ sed -i 's/et/ET/g' at.txt\n",
    "\n",
    "Emilia@DESKTOP-JHFTGNK MINGW64 ~/repo1/lab-bash/lorem-copy (master)\n",
    "$ cat at.txt\n",
    "\n"
   ]
  },
  {
   "cell_type": "code",
   "execution_count": null,
   "id": "b02be80b-02b3-4770-a858-2d9c718ba47b",
   "metadata": {},
   "outputs": [],
   "source": [
    "#13 \n",
    "Emilia@DESKTOP-JHFTGNK MINGW64 ~/repo1/lab-bash/lorem-copy (master)\n",
    "$ git config user.name\n",
    "EmiliaL\n",
    "\n"
   ]
  },
  {
   "cell_type": "code",
   "execution_count": null,
   "id": "730a2eb2-7004-49d1-8033-029e35d1884e",
   "metadata": {},
   "outputs": [],
   "source": [
    "#14\n",
    "Emilia@DESKTOP-JHFTGNK MINGW64 ~/repo1/lab-bash/lorem-copy (master)\n",
    "$ pwd\n",
    "/c/Users/danie/repo1/lab-bash/lorem-copy\n",
    "\n"
   ]
  },
  {
   "cell_type": "code",
   "execution_count": null,
   "id": "8e63d7fa-cb74-42e1-a66a-3976f3ab6152",
   "metadata": {},
   "outputs": [],
   "source": [
    "#15\n",
    "Emilia@DESKTOP-JHFTGNK MINGW64 ~/repo1/lab-bash/lorem (master)\n",
    "$ ls *.txt\n",
    "at.txt  lorem.txt  sed.txt\n"
   ]
  },
  {
   "cell_type": "code",
   "execution_count": null,
   "id": "08152398-672a-4fa6-b545-3895d467b858",
   "metadata": {},
   "outputs": [],
   "source": [
    "#16\n",
    "Emilia@DESKTOP-JHFTGNK MINGW64 ~/repo1/lab-bash/lorem (master)\n",
    "$ cat sed.txt | wc -l\n",
    "9\n"
   ]
  },
  {
   "cell_type": "code",
   "execution_count": null,
   "id": "3264d1ee-4c41-439f-9349-565a8c925c73",
   "metadata": {},
   "outputs": [],
   "source": [
    "#17\n",
    "Emilia@DESKTOP-JHFTGNK MINGW64 ~/repo1/lab-bash (master)\n",
    "$ ls -d *lorem* | wc -l\n",
    "2\n"
   ]
  },
  {
   "cell_type": "code",
   "execution_count": null,
   "id": "ef171482-f167-4cad-8423-28680f15d05c",
   "metadata": {},
   "outputs": [],
   "source": []
  },
  {
   "cell_type": "code",
   "execution_count": null,
   "id": "dbdd76c6-e58f-4f97-836e-ca8e2d19ad7c",
   "metadata": {},
   "outputs": [],
   "source": []
  },
  {
   "cell_type": "code",
   "execution_count": null,
   "id": "b8997a4c-baf0-4436-93d0-0c620a1b15cb",
   "metadata": {},
   "outputs": [],
   "source": []
  }
 ],
 "metadata": {
  "kernelspec": {
   "display_name": "Python 3 (ipykernel)",
   "language": "python",
   "name": "python3"
  },
  "language_info": {
   "codemirror_mode": {
    "name": "ipython",
    "version": 3
   },
   "file_extension": ".py",
   "mimetype": "text/x-python",
   "name": "python",
   "nbconvert_exporter": "python",
   "pygments_lexer": "ipython3",
   "version": "3.9.13"
  }
 },
 "nbformat": 4,
 "nbformat_minor": 5
}
